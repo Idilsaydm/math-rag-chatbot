!pip install --quiet google-generativeai kaggle pandas numpy faiss-cpu pyarrow tqdm
//projenin çalışması için gerekli olan tüm Python kütüphaneleri kuruldu

from google.colab import files
files.upload()  # Buradan kaggle.json dosyasını yükledim


import os
# Kaggle kimlik ayarları
!mkdir -p ~/.kaggle
!chmod 600 ~/.kaggle/kaggle.json
# Veri setini indirdim
!kaggle datasets download -d artemgoncarov/math-problems-imo  # veri set ID
!unzip -o math-problems-imo.zip -d ./dataset


import pandas as pd
import os
CORPUS_FILE = "./dataset/math_problems.parquet"
df = pd.read_parquet(CORPUS_FILE, engine="pyarrow")
print("✅ Veri başarıyla okundu:", df.shape)
print("Sütunlar:", df.columns.tolist())
df.head(3)
//veri çerçevesinin boyutunu ve sütun adlarını yazdırarak, IMO Matematik Problemleri veri setinin başarıyla okunup okunmadığı kontrol edildi

import google.generativeai as genai
from getpass import getpass
GOOGLE_API_KEY = getpass("Lütfen Gemini API anahtarını girin: ")
genai.configure(api_key=GOOGLE_API_KEY)
print("✅ Gemini API yapılandırıldı")


candidates = ["problem", "question", "text", "content", "description", "statement"]
col_lower = [c.lower() for c in df.columns]
TEXT_COLUMN = None

for cand in candidates:
    if cand in col_lower:
        TEXT_COLUMN = df.columns[col_lower.index(cand)]
        break

if TEXT_COLUMN is None:
    string_cols = [c for c in df.columns if df[c].dtype == "object"]
    avg_lengths = {c: df[c].astype(str).map(len).mean() for c in string_cols}
    TEXT_COLUMN = max(avg_lengths, key=avg_lengths.get)

print("✅ Kullanılacak TEXT_COLUMN:", TEXT_COLUMN)
documents = df[TEXT_COLUMN].fillna("").astype(str).tolist()
//metinleri bir liste formatına dönüştürür. ön tanımlı sütun adlarını kontrol eder ve bulamazsa, metin türündeki sütunlar arasından ortalama karakter uzunluğu en uzun olanı seçerek doğru metin sütununu garantiler.

import google.generativeai as genai
import numpy as np
from tqdm import tqdm
EMBEDDING_MODEL = "models/embedding-001"  
USE_API = True  
def create_embedding(text):
    result = genai.embed_content(
        model=EMBEDDING_MODEL,
        content=text,
        task_type="retrieval_document",  
    )
    return np.array(result["embedding"], dtype=np.float32)
//Gemini API'si ile iletişim kurmak ve metinleri vektörlere dönüştürmek için gerekli altyapı hazırlanıyor


!pip install --upgrade --quiet google-generativeai

def retrieve(query, top_k=3):
    if USE_API:
        q_emb = np.array(genai.embeddings.create(model="models/gemini-embedding-001", input=query).data[0].embedding, dtype=np.float32)
    else:
        rng = np.random.default_rng(abs(hash(query)) % (2**32))
        q_emb = rng.random(256, dtype=np.float32)

    faiss.normalize_L2(q_emb.reshape(1, -1))
    D, I = index.search(q_emb.reshape(1, -1), top_k)
    return [documents[i] for i in I[0]]

def rag_chat(query):
    context = "\n\n".join(retrieve(query))
    prompt = f"Aşağıdaki bağlamdan yararlanarak kısa, doğru ve Türkçe bir cevap ver:\n\nBağlam:\n{context}\n\nSoru:\n{query}\n\nCevap:"
    if USE_API:
        response = genai.generate(model="models/gemini-1.5-pro", prompt=prompt)
        return response.candidates[0].output_text
    else:
        return "[Mock Yanıt] Bu sadece test modu. Gerçek bağlam:\n" + context[:300] + "..."

print(rag_chat("Bir matematik problemi nasıl çözülür?"))
//retrieve fonksiyonu, kullanıcı sorgusunun vektörünü oluşturup, FAISS indeksinde en benzer 3 dökümanı bulurken, rag_chat fonksiyonu ise çekilen bu bağlamı kullanarak gemini'a son bir yanıt oluşturma komutu gönderir.


import os
os.makedirs("dataset", exist_ok=True)
print("Klasör içeriği:", os.listdir("dataset"))


import pandas as pd
df = pd.read_parquet("./dataset/math_problems.parquet", engine="pyarrow")
print("✅ Veri başarıyla okundu:", df.shape)


print("Örnek embedding:", create_embedding("Bu bir test cümlesidir.")[:10])


!pip install --quiet gradio
import gradio as gr

def rag_chat_ui(query):
    result = rag_chat(query)
    return result

with gr.Blocks(theme=gr.themes.Soft(primary_hue="blue", secondary_hue="purple")) as demo:
    gr.Markdown("## 🧮 AI Math Problem Chatbot\nMatematik problemleri için RAG tabanlı akıllı sohbet arayüzü (Gemini destekli).")
    with gr.Row():
        query = gr.Textbox(label="Soru Girin", placeholder="Örn: Eşitsizlik nasıl çözülür?")
    with gr.Row():
        answer = gr.Textbox(label="Cevap", interactive=False)
    send = gr.Button("🚀 Sor")
    send.click(fn=rag_chat_ui, inputs=query, outputs=answer)

demo.launch()
//kullanıcıların matematik problemlerini girebileceği ve RAG modelinden yanıt alabileceği Gradio tabanlı görsel bir web arayüzü oluşturur. Arayüz, rag_chat_ui fonksiyonu aracılığıyla önceki adımlarda tanımlanan rag_chat fonksiyonunu tetikler ve Gemini'den gelen çözümü ekranda gösterir.


from IPython.display import Markdown

Markdown("""
| 🔹 Aşama | 🔍 Açıklama | 🔧 Teknoloji |
|----------|-------------|--------------|
| **1️⃣ Veri Hazırlama** | Parquet dosyasından matematik problemlerini okur. | `pandas`, `pyarrow` |
| **2️⃣ Embedding** | Her problemi sayısal vektöre dönüştürür. | `Gemini Embedding API` veya `Mock` |
| **3️⃣ Indexleme** | FAISS kullanarak benzerlik arama altyapısı kurar. | `FAISS` |
| **4️⃣ RAG Pipeline** | Sorguya en yakın belgeleri bulur, birleştirir ve modele verir. | `Python`, `Gemini 1.5` |
| **5️⃣ UI** | Gradio arayüzü üzerinden kullanıcı etkileşimi sağlar. | `Gradio` |
""")
//Bu blok, projenin Çözüm Mimarisini açıkça özetleyen bir Markdown tablosunu görüntüler. Kod, RAG sürecini beş mantıksal aşamaya ayırarak, her aşamanın görevini ve bu görevi yerine getiren temel teknolojiyi listeler.





